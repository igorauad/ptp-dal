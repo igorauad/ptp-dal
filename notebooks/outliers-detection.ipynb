{
 "cells": [
  {
   "cell_type": "markdown",
   "metadata": {},
   "source": [
    "# Outlier detection using IQR method"
   ]
  },
  {
   "cell_type": "markdown",
   "metadata": {},
   "source": [
    "The Interqurtile Range (IQR) is a measure of statistical dispersion, being equal to the difference between the first quartiles and the third quartile. The first quartile, denoted as Q1 is the value in the data set that holds 25% of the values below it. The third quartile, denoted Q3, is the value in the data set that holds 25% of the values above it. \n",
    "\n",
    "Therefore, the IQR method can be used to identify outliers by defining limits on the sample values that are a factor c of the IQR below the 25th percentile or above the 75th percentile. The default value for the factor c is 1.5, but it can be increased to identify just values that are extreme outliers."
   ]
  },
  {
   "cell_type": "markdown",
   "metadata": {},
   "source": [
    "\n",
    "                 LB          Q1      Q3          UB      \n",
    "      outlier                +−−−−−+−+                  outlier\n",
    "         *       |−−−−−−−−−−−|     | |−−−−−−−−−−−|         *\n",
    "                             +−−−−−+−+    \n",
    "                    \n",
    " +−−−+−−−+−−−+−−−+−−−+−−−+−−−+−−−+−−−+−−−+−−−+−−−+−−−+−−−+−−−+−−−+"
   ]
  },
  {
   "cell_type": "code",
   "execution_count": 1,
   "metadata": {},
   "outputs": [],
   "source": [
    "import sys, os, pprint, copy\n",
    "sys.path.append(os.path.abspath('../'))\n",
    "import ptp.reader, ptp.metrics\n",
    "import matplotlib\n",
    "import matplotlib.pyplot as plt\n",
    "import numpy as np\n",
    "import ptp.outlier\n",
    "%matplotlib inline\n",
    "%load_ext autoreload\n",
    "%autoreload 2"
   ]
  },
  {
   "cell_type": "code",
   "execution_count": null,
   "metadata": {
    "scrolled": false
   },
   "outputs": [],
   "source": [
    "filenames = [\"../data/serial-20190822-173422.json\",\n",
    "             \"../data/serial-20190813-185308.json\",\n",
    "             \"../data/serial-20190820-103355.json\",\n",
    "             \"../data/serial-20190821-223131.json\",\n",
    "             \"../data/serial-20190822-100213.json\",\n",
    "             \"../data/serial-20190823-083502.json\"]\n",
    "\n",
    "for filename in filenames:\n",
    "    # Reader\n",
    "    reader = ptp.reader.Reader(filename)\n",
    "    reader.run()\n",
    "    print(\"Dataset info:\")\n",
    "    print(f\"Filename: {filename}\")\n",
    "    pprint.pprint(reader.metadata)\n",
    "    \n",
    "    # Outlier detection\n",
    "    outlier = ptp.outlier.Outlier(reader.data)\n",
    "    outlier.process(c=2)\n",
    "    \n",
    "    d_asym     = np.array([r['asym'] for r in reader.data])\n",
    "    x          = np.array([r['idx'] for r in reader.data])\n",
    "    d_asym_out = [r['asym'] for r in reader.data if 'outlier' in r]\n",
    "    x_out      = [r['idx'] for r in reader.data if 'outlier' in r]\n",
    "    \n",
    "    plt.figure()\n",
    "    plt.scatter(x, d_asym, s=0.7)\n",
    "    plt.scatter(x_out, d_asym_out, s=1)\n",
    "    plt.show()\n",
    "    plt.close()\n",
    "    \n",
    "    print(\"---------------------------------------------------------------\\n\")"
   ]
  },
  {
   "cell_type": "code",
   "execution_count": null,
   "metadata": {},
   "outputs": [],
   "source": []
  }
 ],
 "metadata": {
  "kernelspec": {
   "display_name": "Python 3",
   "language": "python",
   "name": "python3"
  },
  "language_info": {
   "codemirror_mode": {
    "name": "ipython",
    "version": 3
   },
   "file_extension": ".py",
   "mimetype": "text/x-python",
   "name": "python",
   "nbconvert_exporter": "python",
   "pygments_lexer": "ipython3",
   "version": "3.7.5"
  }
 },
 "nbformat": 4,
 "nbformat_minor": 2
}
