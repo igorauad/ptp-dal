{
 "cells": [
  {
   "cell_type": "code",
   "execution_count": 1,
   "metadata": {},
   "outputs": [],
   "source": [
    "import sys, os, pprint\n",
    "from IPython.display import HTML, display\n",
    "import tabulate\n",
    "sys.path.append(os.path.abspath('../'))\n",
    "import numpy as np\n",
    "import argparse, logging, sys\n",
    "import ptp.reader\n",
    "import ptp.ls\n",
    "import ptp.metrics\n",
    "import ptp.pktselection\n",
    "import ptp.kalman\n",
    "import ptp.frequency\n",
    "import ptp.window\n",
    "%matplotlib inline\n",
    "%load_ext autoreload\n",
    "%autoreload 2"
   ]
  },
  {
   "cell_type": "code",
   "execution_count": 2,
   "metadata": {},
   "outputs": [],
   "source": [
    "filename   = \"../data/serial-20190813-185308.json\""
   ]
  },
  {
   "cell_type": "code",
   "execution_count": 3,
   "metadata": {},
   "outputs": [
    {
     "name": "stdout",
     "output_type": "stream",
     "text": [
      "Dataset info:\n",
      "{'fh_traffic': {'bitrate': {'dl': 837120000.0, 'ul': 418560000.0},\n",
      "                'fs': 7680000.0,\n",
      "                'iq_size': 24,\n",
      "                'n_rru_active': 1,\n",
      "                'n_rru_cfg': 1,\n",
      "                'n_spf': 64,\n",
      "                'type': 'inline'},\n",
      " 'hops': 4,\n",
      " 'oscillator': 'xo',\n",
      " 'start_time': '2019-08-13 18:53:08',\n",
      " 'sync_period': 0.25}\n"
     ]
    }
   ],
   "source": [
    "reader = ptp.reader.Reader(filename)\n",
    "reader.run()\n",
    "print(\"Dataset info:\")\n",
    "pprint.pprint(reader.metadata)"
   ]
  },
  {
   "cell_type": "code",
   "execution_count": 4,
   "metadata": {},
   "outputs": [],
   "source": [
    "# Message period in nanoseconds\n",
    "if (reader.metadata is not None and \"sync_period\" in reader.metadata):\n",
    "    T_ns = reader.metadata[\"sync_period\"]*1e9\n",
    "else:\n",
    "    T_ns = 1e9/4"
   ]
  },
  {
   "cell_type": "code",
   "execution_count": 5,
   "metadata": {},
   "outputs": [],
   "source": [
    "# Raw frequency estimations (differentiation of raw time offset measurements)\n",
    "def frequency(delta=64, optimize=True, drift=True):\n",
    "    freq_delta     = delta\n",
    "    freq_estimator = ptp.frequency.Estimator(reader.data, delta=freq_delta)\n",
    "    freq_estimator.set_truth(delta=freq_delta)\n",
    "    if (optimize):\n",
    "        print(\"Optimizing frequency delta...\")\n",
    "        freq_estimator.optimize()\n",
    "    \n",
    "    freq_estimator.process()\n",
    "    \n",
    "    if (drift):\n",
    "        print(\"Estimating drift...\")\n",
    "        # Estimate time offset drifts due to frequency offset\n",
    "        freq_estimator.estimate_drift()\n",
    "    \n",
    "    return freq_estimator.delta"
   ]
  },
  {
   "cell_type": "code",
   "execution_count": 6,
   "metadata": {},
   "outputs": [],
   "source": [
    "def optimizer(estimators, data, T, fine_pass=False, method=\"max-te\"):\n",
    "    window_optimizer = ptp.window.Optimizer(data, T)\n",
    "    estimations = []\n",
    "    for e in est:\n",
    "        window_optimizer.process(e, file=filename, method=method,\n",
    "                                 plot=False, fine_pass=fine_pass, force=True)\n",
    "        N        = window_optimizer.est_op[e][\"N_best\"]\n",
    "        _, er, _ = window_optimizer._evaluate([N], e, method=method)\n",
    "        estimations.append([e, N, er])\n",
    "    \n",
    "    return estimations"
   ]
  },
  {
   "cell_type": "code",
   "execution_count": 7,
   "metadata": {},
   "outputs": [],
   "source": [
    "def disp_table(header, table):\n",
    "    value = header + table\n",
    "    display(HTML(tabulate.tabulate(value, tablefmt='html')))"
   ]
  },
  {
   "cell_type": "code",
   "execution_count": 8,
   "metadata": {},
   "outputs": [
    {
     "name": "stdout",
     "output_type": "stream",
     "text": [
      "Optimizing frequency delta...\n",
      "Estimating drift...\n",
      "Delta: 512\n"
     ]
    }
   ],
   "source": [
    "# Frequency estimation\n",
    "delta = frequency()\n",
    "print(f\"Delta: {delta}\")"
   ]
  },
  {
   "cell_type": "markdown",
   "metadata": {},
   "source": [
    "## Test #01: Max|TE| vs MTIE vs MSE"
   ]
  },
  {
   "cell_type": "code",
   "execution_count": 9,
   "metadata": {},
   "outputs": [
    {
     "name": "stdout",
     "output_type": "stream",
     "text": [
      "Method: max-te\n"
     ]
    },
    {
     "data": {
      "text/html": [
       "<table>\n",
       "<tbody>\n",
       "<tr><td>Estimator     </td><td>N </td><td>Error          </td></tr>\n",
       "<tr><td>ls            </td><td>35</td><td>[1907.2642858] </td></tr>\n",
       "<tr><td>sample-average</td><td>11</td><td>[1930.29950374]</td></tr>\n",
       "<tr><td>sample-min    </td><td>18</td><td>[2121.82926458]</td></tr>\n",
       "<tr><td>sample-max    </td><td>15</td><td>[2109.41256833]</td></tr>\n",
       "</tbody>\n",
       "</table>"
      ],
      "text/plain": [
       "<IPython.core.display.HTML object>"
      ]
     },
     "metadata": {},
     "output_type": "display_data"
    },
    {
     "name": "stdout",
     "output_type": "stream",
     "text": [
      "-----------------------------------------------------\n",
      "\n",
      "Method: mtie\n"
     ]
    },
    {
     "name": "stderr",
     "output_type": "stream",
     "text": [
      "WARNING:root:Best (2) and second-best (16) windows are not                 consecutive\n",
      "WARNING:root:Best (2) and second-best (8) windows are not                 consecutive\n"
     ]
    },
    {
     "data": {
      "text/html": [
       "<table>\n",
       "<tbody>\n",
       "<tr><td>Estimator     </td><td>N </td><td>Error          </td></tr>\n",
       "<tr><td>ls            </td><td>31</td><td>[1799.57358861]</td></tr>\n",
       "<tr><td>sample-average</td><td>11</td><td>[1906.37592494]</td></tr>\n",
       "<tr><td>sample-min    </td><td>6 </td><td>[2106.85774297]</td></tr>\n",
       "<tr><td>sample-max    </td><td>2 </td><td>[2030.35774302]</td></tr>\n",
       "</tbody>\n",
       "</table>"
      ],
      "text/plain": [
       "<IPython.core.display.HTML object>"
      ]
     },
     "metadata": {},
     "output_type": "display_data"
    },
    {
     "name": "stdout",
     "output_type": "stream",
     "text": [
      "-----------------------------------------------------\n",
      "\n",
      "Method: mse\n"
     ]
    },
    {
     "data": {
      "text/html": [
       "<table>\n",
       "<tbody>\n",
       "<tr><td>Estimator     </td><td>N </td><td>Error            </td></tr>\n",
       "<tr><td>ls            </td><td>33</td><td>[146261.01454772]</td></tr>\n",
       "<tr><td>sample-average</td><td>15</td><td>[139502.1499074] </td></tr>\n",
       "<tr><td>sample-min    </td><td>22</td><td>[56369.37165206] </td></tr>\n",
       "<tr><td>sample-max    </td><td>41</td><td>[188700.52369773]</td></tr>\n",
       "</tbody>\n",
       "</table>"
      ],
      "text/plain": [
       "<IPython.core.display.HTML object>"
      ]
     },
     "metadata": {},
     "output_type": "display_data"
    },
    {
     "name": "stdout",
     "output_type": "stream",
     "text": [
      "-----------------------------------------------------\n",
      "\n"
     ]
    }
   ],
   "source": [
    "est    = [\"ls\", \"sample-average\", \"sample-min\", \"sample-max\"]\n",
    "method = [\"max-te\", \"mtie\", \"mse\"]\n",
    "\n",
    "for m in method:\n",
    "    print(f\"Method: {m}\")\n",
    "    estimations = optimizer(est, reader.data, T_ns, method=m, fine_pass=True)\n",
    "    disp_table([[\"Estimator\", \"N\", \"Error\"]], estimations)\n",
    "    print(\"-----------------------------------------------------\\n\")"
   ]
  },
  {
   "cell_type": "markdown",
   "metadata": {},
   "source": [
    "## Test #02: Data size vs Best window size"
   ]
  },
  {
   "cell_type": "code",
   "execution_count": 10,
   "metadata": {
    "scrolled": false
   },
   "outputs": [
    {
     "name": "stdout",
     "output_type": "stream",
     "text": [
      "Running full data:\n"
     ]
    },
    {
     "data": {
      "text/html": [
       "<table>\n",
       "<tbody>\n",
       "<tr><td>Estimator     </td><td>N </td><td>Error          </td></tr>\n",
       "<tr><td>ls            </td><td>32</td><td>[1963.67897707]</td></tr>\n",
       "<tr><td>sample-average</td><td>8 </td><td>[1941.66343111]</td></tr>\n",
       "<tr><td>sample-min    </td><td>32</td><td>[2121.82926464]</td></tr>\n",
       "<tr><td>sample-max    </td><td>8 </td><td>[2109.41256839]</td></tr>\n",
       "</tbody>\n",
       "</table>"
      ],
      "text/plain": [
       "<IPython.core.display.HTML object>"
      ]
     },
     "metadata": {},
     "output_type": "display_data"
    },
    {
     "name": "stdout",
     "output_type": "stream",
     "text": [
      "-----------------------------------------------------\n",
      "\n",
      "Running partial data:\n",
      "1/2 * data:\n"
     ]
    },
    {
     "data": {
      "text/html": [
       "<table>\n",
       "<tbody>\n",
       "<tr><td>Estimator     </td><td>N </td><td>Error          </td></tr>\n",
       "<tr><td>ls            </td><td>32</td><td>[1963.67897707]</td></tr>\n",
       "<tr><td>sample-average</td><td>8 </td><td>[1941.66343111]</td></tr>\n",
       "<tr><td>sample-min    </td><td>32</td><td>[2096.13544422]</td></tr>\n",
       "<tr><td>sample-max    </td><td>2 </td><td>[2030.35774302]</td></tr>\n",
       "</tbody>\n",
       "</table>"
      ],
      "text/plain": [
       "<IPython.core.display.HTML object>"
      ]
     },
     "metadata": {},
     "output_type": "display_data"
    },
    {
     "name": "stdout",
     "output_type": "stream",
     "text": [
      "-----------------------------------------------------\n",
      "\n",
      "1/4 * data:\n"
     ]
    },
    {
     "data": {
      "text/html": [
       "<table>\n",
       "<tbody>\n",
       "<tr><td>Estimator     </td><td>N </td><td>Error          </td></tr>\n",
       "<tr><td>ls            </td><td>16</td><td>[1405.56617653]</td></tr>\n",
       "<tr><td>sample-average</td><td>8 </td><td>[1295.49313241]</td></tr>\n",
       "<tr><td>sample-min    </td><td>32</td><td>[1387.58872807]</td></tr>\n",
       "<tr><td>sample-max    </td><td>16</td><td>[1364.35959232]</td></tr>\n",
       "</tbody>\n",
       "</table>"
      ],
      "text/plain": [
       "<IPython.core.display.HTML object>"
      ]
     },
     "metadata": {},
     "output_type": "display_data"
    },
    {
     "name": "stdout",
     "output_type": "stream",
     "text": [
      "-----------------------------------------------------\n",
      "\n",
      "1/6 * data:\n"
     ]
    },
    {
     "data": {
      "text/html": [
       "<table>\n",
       "<tbody>\n",
       "<tr><td>Estimator     </td><td>N </td><td>Error          </td></tr>\n",
       "<tr><td>ls            </td><td>16</td><td>[1405.56617653]</td></tr>\n",
       "<tr><td>sample-average</td><td>8 </td><td>[1283.75413573]</td></tr>\n",
       "<tr><td>sample-min    </td><td>32</td><td>[1387.58872807]</td></tr>\n",
       "<tr><td>sample-max    </td><td>16</td><td>[1352.7186799] </td></tr>\n",
       "</tbody>\n",
       "</table>"
      ],
      "text/plain": [
       "<IPython.core.display.HTML object>"
      ]
     },
     "metadata": {},
     "output_type": "display_data"
    },
    {
     "name": "stdout",
     "output_type": "stream",
     "text": [
      "-----------------------------------------------------\n",
      "\n",
      "1/8 * data:\n"
     ]
    },
    {
     "data": {
      "text/html": [
       "<table>\n",
       "<tbody>\n",
       "<tr><td>Estimator     </td><td>N </td><td>Error          </td></tr>\n",
       "<tr><td>ls            </td><td>16</td><td>[1268.82720578]</td></tr>\n",
       "<tr><td>sample-average</td><td>8 </td><td>[1188.58073139]</td></tr>\n",
       "<tr><td>sample-min    </td><td>32</td><td>[1300.05681974]</td></tr>\n",
       "<tr><td>sample-max    </td><td>16</td><td>[1191.84198099]</td></tr>\n",
       "</tbody>\n",
       "</table>"
      ],
      "text/plain": [
       "<IPython.core.display.HTML object>"
      ]
     },
     "metadata": {},
     "output_type": "display_data"
    },
    {
     "name": "stdout",
     "output_type": "stream",
     "text": [
      "-----------------------------------------------------\n",
      "\n",
      "1/10 * data:\n"
     ]
    },
    {
     "data": {
      "text/html": [
       "<table>\n",
       "<tbody>\n",
       "<tr><td>Estimator     </td><td>N </td><td>Error          </td></tr>\n",
       "<tr><td>ls            </td><td>16</td><td>[1268.82720578]</td></tr>\n",
       "<tr><td>sample-average</td><td>8 </td><td>[1188.58073139]</td></tr>\n",
       "<tr><td>sample-min    </td><td>32</td><td>[1300.05681974]</td></tr>\n",
       "<tr><td>sample-max    </td><td>8 </td><td>[1078.02868527]</td></tr>\n",
       "</tbody>\n",
       "</table>"
      ],
      "text/plain": [
       "<IPython.core.display.HTML object>"
      ]
     },
     "metadata": {},
     "output_type": "display_data"
    },
    {
     "name": "stdout",
     "output_type": "stream",
     "text": [
      "-----------------------------------------------------\n",
      "\n",
      "1/12 * data:\n"
     ]
    },
    {
     "data": {
      "text/html": [
       "<table>\n",
       "<tbody>\n",
       "<tr><td>Estimator     </td><td>N </td><td>Error          </td></tr>\n",
       "<tr><td>ls            </td><td>64</td><td>[1156.72019213]</td></tr>\n",
       "<tr><td>sample-average</td><td>8 </td><td>[1188.58073139]</td></tr>\n",
       "<tr><td>sample-min    </td><td>32</td><td>[1165.8352766] </td></tr>\n",
       "<tr><td>sample-max    </td><td>8 </td><td>[1078.02868527]</td></tr>\n",
       "</tbody>\n",
       "</table>"
      ],
      "text/plain": [
       "<IPython.core.display.HTML object>"
      ]
     },
     "metadata": {},
     "output_type": "display_data"
    },
    {
     "name": "stdout",
     "output_type": "stream",
     "text": [
      "-----------------------------------------------------\n",
      "\n",
      "1/14 * data:\n"
     ]
    },
    {
     "data": {
      "text/html": [
       "<table>\n",
       "<tbody>\n",
       "<tr><td>Estimator     </td><td>N </td><td>Error          </td></tr>\n",
       "<tr><td>ls            </td><td>64</td><td>[1156.72019213]</td></tr>\n",
       "<tr><td>sample-average</td><td>8 </td><td>[1188.58073139]</td></tr>\n",
       "<tr><td>sample-min    </td><td>32</td><td>[1165.8352766] </td></tr>\n",
       "<tr><td>sample-max    </td><td>8 </td><td>[962.88814032] </td></tr>\n",
       "</tbody>\n",
       "</table>"
      ],
      "text/plain": [
       "<IPython.core.display.HTML object>"
      ]
     },
     "metadata": {},
     "output_type": "display_data"
    },
    {
     "name": "stdout",
     "output_type": "stream",
     "text": [
      "-----------------------------------------------------\n",
      "\n",
      "1/16 * data:\n"
     ]
    },
    {
     "data": {
      "text/html": [
       "<table>\n",
       "<tbody>\n",
       "<tr><td>Estimator     </td><td>N </td><td>Error          </td></tr>\n",
       "<tr><td>ls            </td><td>64</td><td>[1156.72019213]</td></tr>\n",
       "<tr><td>sample-average</td><td>8 </td><td>[1188.58073139]</td></tr>\n",
       "<tr><td>sample-min    </td><td>32</td><td>[1165.8352766] </td></tr>\n",
       "<tr><td>sample-max    </td><td>8 </td><td>[962.88814032] </td></tr>\n",
       "</tbody>\n",
       "</table>"
      ],
      "text/plain": [
       "<IPython.core.display.HTML object>"
      ]
     },
     "metadata": {},
     "output_type": "display_data"
    },
    {
     "name": "stdout",
     "output_type": "stream",
     "text": [
      "-----------------------------------------------------\n",
      "\n",
      "1/18 * data:\n"
     ]
    },
    {
     "data": {
      "text/html": [
       "<table>\n",
       "<tbody>\n",
       "<tr><td>Estimator     </td><td>N  </td><td>Error          </td></tr>\n",
       "<tr><td>ls            </td><td>128</td><td>[1014.52997822]</td></tr>\n",
       "<tr><td>sample-average</td><td>8  </td><td>[1188.58073139]</td></tr>\n",
       "<tr><td>sample-min    </td><td>32 </td><td>[1165.8352766] </td></tr>\n",
       "<tr><td>sample-max    </td><td>8  </td><td>[962.88814032] </td></tr>\n",
       "</tbody>\n",
       "</table>"
      ],
      "text/plain": [
       "<IPython.core.display.HTML object>"
      ]
     },
     "metadata": {},
     "output_type": "display_data"
    },
    {
     "name": "stdout",
     "output_type": "stream",
     "text": [
      "-----------------------------------------------------\n",
      "\n"
     ]
    }
   ],
   "source": [
    "data_len  = np.arange(2, 20, 2)\n",
    "\n",
    "# Full data\n",
    "print(\"Running full data:\")\n",
    "estimations = optimizer(est, reader.data, T_ns, fine_pass=False)\n",
    "disp_table([[\"Estimator\", \"N\", \"Error\"]], estimations)\n",
    "print(\"-----------------------------------------------------\\n\")\n",
    "\n",
    "# Partial data\n",
    "print(\"Running partial data:\")\n",
    "for n in data_len:\n",
    "    print(f\"1/{n} * data:\")\n",
    "    part_data = reader.data[:int(len(reader.data)/n)]\n",
    "    estimations = optimizer(est, part_data, T_ns, fine_pass=False)\n",
    "    disp_table([[\"Estimator\", \"N\", \"Error\"]], estimations)\n",
    "    print(\"-----------------------------------------------------\\n\")"
   ]
  },
  {
   "cell_type": "markdown",
   "metadata": {},
   "source": [
    "## Test #03: Frequency vs Window size"
   ]
  },
  {
   "cell_type": "markdown",
   "metadata": {},
   "source": [
    "### Test #03.1: Frequency vs Window size"
   ]
  },
  {
   "cell_type": "code",
   "execution_count": 11,
   "metadata": {},
   "outputs": [
    {
     "data": {
      "image/png": "[encoded data removed]",
      "text/plain": [
       "<Figure size 432x288 with 1 Axes>"
      ]
     },
     "metadata": {
      "needs_background": "light"
     },
     "output_type": "display_data"
    }
   ],
   "source": [
    "# PTP analyser\n",
    "analyser = ptp.metrics.Analyser(reader.data)\n",
    "analyser.plot_toffset_vs_time(save=False, x_unit='samples')"
   ]
  },
  {
   "cell_type": "code",
   "execution_count": 12,
   "metadata": {
    "scrolled": false
   },
   "outputs": [
    {
     "name": "stdout",
     "output_type": "stream",
     "text": [
      "Optimized frequency\n",
      "Optimizing frequency delta...\n",
      "Estimating drift...\n",
      "-----------------------------------------------------\n",
      "\n",
      "Using all samples:\n"
     ]
    },
    {
     "data": {
      "text/html": [
       "<table>\n",
       "<tbody>\n",
       "<tr><td>Estimator     </td><td>N </td><td>Error          </td></tr>\n",
       "<tr><td>ls            </td><td>32</td><td>[1963.67897707]</td></tr>\n",
       "<tr><td>sample-average</td><td>8 </td><td>[1941.66343111]</td></tr>\n",
       "<tr><td>sample-min    </td><td>32</td><td>[2121.82926464]</td></tr>\n",
       "<tr><td>sample-max    </td><td>8 </td><td>[2109.41256839]</td></tr>\n",
       "</tbody>\n",
       "</table>"
      ],
      "text/plain": [
       "<IPython.core.display.HTML object>"
      ]
     },
     "metadata": {},
     "output_type": "display_data"
    },
    {
     "name": "stdout",
     "output_type": "stream",
     "text": [
      "77112\n",
      "-----------------------------------------------------\n",
      "\n",
      "Skiping the samples without drift estimation:\n",
      "76600\n"
     ]
    },
    {
     "data": {
      "text/html": [
       "<table>\n",
       "<tbody>\n",
       "<tr><td>Estimator     </td><td>N </td><td>Error          </td></tr>\n",
       "<tr><td>ls            </td><td>32</td><td>[1963.67897707]</td></tr>\n",
       "<tr><td>sample-average</td><td>8 </td><td>[1941.66343099]</td></tr>\n",
       "<tr><td>sample-min    </td><td>32</td><td>[2121.82926464]</td></tr>\n",
       "<tr><td>sample-max    </td><td>8 </td><td>[2109.41256839]</td></tr>\n",
       "</tbody>\n",
       "</table>"
      ],
      "text/plain": [
       "<IPython.core.display.HTML object>"
      ]
     },
     "metadata": {},
     "output_type": "display_data"
    },
    {
     "name": "stdout",
     "output_type": "stream",
     "text": [
      "-----------------------------------------------------\n",
      "\n"
     ]
    }
   ],
   "source": [
    "print(\"Optimized frequency\")\n",
    "delta = frequency()\n",
    "print(\"-----------------------------------------------------\\n\")\n",
    "\n",
    "print(\"Using all samples:\")\n",
    "estimations = optimizer(est, reader.data, T_ns)\n",
    "disp_table([[\"Estimator\", \"N\", \"Error\"]], estimations)\n",
    "print(len(reader.data))\n",
    "print(\"-----------------------------------------------------\\n\")\n",
    "\n",
    "print(\"Skiping the samples without drift estimation:\")\n",
    "estimations = optimizer(est, reader.data[delta:], T_ns)\n",
    "print(len(reader.data[delta:]))\n",
    "disp_table([[\"Estimator\", \"N\", \"Error\"]], estimations)\n",
    "print(\"-----------------------------------------------------\\n\")"
   ]
  },
  {
   "cell_type": "markdown",
   "metadata": {},
   "source": [
    "### Test #03.2: Frequency vs Window size"
   ]
  },
  {
   "cell_type": "code",
   "execution_count": 13,
   "metadata": {
    "scrolled": false
   },
   "outputs": [
    {
     "name": "stdout",
     "output_type": "stream",
     "text": [
      "Optimized frequency\n",
      "Optimizing frequency delta...\n",
      "Estimating drift...\n",
      "Frequency delta: 512\n"
     ]
    },
    {
     "data": {
      "text/html": [
       "<table>\n",
       "<tbody>\n",
       "<tr><td>Estimator     </td><td>N </td><td>Error          </td></tr>\n",
       "<tr><td>ls            </td><td>32</td><td>[1963.67897707]</td></tr>\n",
       "<tr><td>sample-average</td><td>8 </td><td>[1941.66343111]</td></tr>\n",
       "<tr><td>sample-min    </td><td>32</td><td>[2121.82926464]</td></tr>\n",
       "<tr><td>sample-max    </td><td>8 </td><td>[2109.41256839]</td></tr>\n",
       "</tbody>\n",
       "</table>"
      ],
      "text/plain": [
       "<IPython.core.display.HTML object>"
      ]
     },
     "metadata": {},
     "output_type": "display_data"
    },
    {
     "name": "stdout",
     "output_type": "stream",
     "text": [
      "-----------------------------------------------------\n",
      "\n",
      "Estimating drift...\n",
      "Frequency delta: 2\n"
     ]
    },
    {
     "data": {
      "text/html": [
       "<table>\n",
       "<tbody>\n",
       "<tr><td>Estimator     </td><td>N </td><td>Error          </td></tr>\n",
       "<tr><td>ls            </td><td>32</td><td>[1963.67897707]</td></tr>\n",
       "<tr><td>sample-average</td><td>2 </td><td>[2825.8287046] </td></tr>\n",
       "<tr><td>sample-min    </td><td>4 </td><td>[2869.40542442]</td></tr>\n",
       "<tr><td>sample-max    </td><td>2 </td><td>[2906.88662732]</td></tr>\n",
       "</tbody>\n",
       "</table>"
      ],
      "text/plain": [
       "<IPython.core.display.HTML object>"
      ]
     },
     "metadata": {},
     "output_type": "display_data"
    },
    {
     "name": "stdout",
     "output_type": "stream",
     "text": [
      "-----------------------------------------------------\n",
      "\n",
      "Estimating drift...\n",
      "Frequency delta: 4\n"
     ]
    },
    {
     "data": {
      "text/html": [
       "<table>\n",
       "<tbody>\n",
       "<tr><td>Estimator     </td><td>N  </td><td>Error          </td></tr>\n",
       "<tr><td>ls            </td><td>32 </td><td>[1963.67897707]</td></tr>\n",
       "<tr><td>sample-average</td><td>256</td><td>[2382.31957585]</td></tr>\n",
       "<tr><td>sample-min    </td><td>256</td><td>[2466.46099186]</td></tr>\n",
       "<tr><td>sample-max    </td><td>2  </td><td>[2532.43326396]</td></tr>\n",
       "</tbody>\n",
       "</table>"
      ],
      "text/plain": [
       "<IPython.core.display.HTML object>"
      ]
     },
     "metadata": {},
     "output_type": "display_data"
    },
    {
     "name": "stdout",
     "output_type": "stream",
     "text": [
      "-----------------------------------------------------\n",
      "\n",
      "Estimating drift...\n",
      "Frequency delta: 6\n"
     ]
    },
    {
     "data": {
      "text/html": [
       "<table>\n",
       "<tbody>\n",
       "<tr><td>Estimator     </td><td>N   </td><td>Error          </td></tr>\n",
       "<tr><td>ls            </td><td>32  </td><td>[1963.67897707]</td></tr>\n",
       "<tr><td>sample-average</td><td>256 </td><td>[2324.63101858]</td></tr>\n",
       "<tr><td>sample-min    </td><td>1024</td><td>[2232.90521276]</td></tr>\n",
       "<tr><td>sample-max    </td><td>2   </td><td>[2672.34472185]</td></tr>\n",
       "</tbody>\n",
       "</table>"
      ],
      "text/plain": [
       "<IPython.core.display.HTML object>"
      ]
     },
     "metadata": {},
     "output_type": "display_data"
    },
    {
     "name": "stdout",
     "output_type": "stream",
     "text": [
      "-----------------------------------------------------\n",
      "\n",
      "Estimating drift...\n",
      "Frequency delta: 8\n"
     ]
    },
    {
     "data": {
      "text/html": [
       "<table>\n",
       "<tbody>\n",
       "<tr><td>Estimator     </td><td>N  </td><td>Error          </td></tr>\n",
       "<tr><td>ls            </td><td>32 </td><td>[1963.67897707]</td></tr>\n",
       "<tr><td>sample-average</td><td>64 </td><td>[2162.16044241]</td></tr>\n",
       "<tr><td>sample-min    </td><td>256</td><td>[2349.87290084]</td></tr>\n",
       "<tr><td>sample-max    </td><td>2  </td><td>[2113.5]       </td></tr>\n",
       "</tbody>\n",
       "</table>"
      ],
      "text/plain": [
       "<IPython.core.display.HTML object>"
      ]
     },
     "metadata": {},
     "output_type": "display_data"
    },
    {
     "name": "stdout",
     "output_type": "stream",
     "text": [
      "-----------------------------------------------------\n",
      "\n"
     ]
    }
   ],
   "source": [
    "print(\"Optimized frequency\")\n",
    "delta = frequency()\n",
    "print(f\"Frequency delta: {delta}\")\n",
    "estimations = optimizer(est, reader.data, T_ns)\n",
    "disp_table([[\"Estimator\", \"N\", \"Error\"]], estimations)\n",
    "print(\"-----------------------------------------------------\\n\")\n",
    "\n",
    "n_delta = np.arange(2, 10, 2)\n",
    "for d in n_delta:\n",
    "    delta = frequency(delta=int(d), optimize=False)\n",
    "    print(f\"Frequency delta: {delta}\")\n",
    "    estimations = optimizer(est, reader.data, T_ns)\n",
    "    disp_table([[\"Estimator\", \"N\", \"Error\"]], estimations)\n",
    "    print(\"-----------------------------------------------------\\n\")"
   ]
  },
  {
   "cell_type": "code",
   "execution_count": null,
   "metadata": {},
   "outputs": [],
   "source": []
  }
 ],
 "metadata": {
  "kernelspec": {
   "display_name": "Python 3",
   "language": "python",
   "name": "python3"
  },
  "language_info": {
   "codemirror_mode": {
    "name": "ipython",
    "version": 3
   },
   "file_extension": ".py",
   "mimetype": "text/x-python",
   "name": "python",
   "nbconvert_exporter": "python",
   "pygments_lexer": "ipython3",
   "version": "3.7.5"
  }
 },
 "nbformat": 4,
 "nbformat_minor": 2
}
