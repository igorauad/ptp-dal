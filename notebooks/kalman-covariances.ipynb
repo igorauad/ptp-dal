{
 "cells": [
  {
   "cell_type": "markdown",
   "metadata": {},
   "source": [
    "# Kalman Covariance Matrices\n",
    "\n",
    "This notebook aims at evaluating whether the following theoretical formulation for the **observation noise covariance** matrix holds in practice:\n",
    "$$\n",
    "\\newcommand{\\Var}[1]{\\mathrm{Var}\\left\\{#1\\right\\}}\n",
    "\\newcommand{\\Cov}[1]{\\mathrm{Cov}\\left\\{#1\\right\\}}\n",
    "\\mathbf{R} =\n",
    "  \\left[\n",
    "  \\begin{array}{cc}\n",
    "    \\frac{\\Var{\\delta_{ms}} + \\Var{\\delta_{sm}}}{4} &  \\frac{\\Var{\\delta_{ms}}}{2NT}\\\\\n",
    "     \\frac{\\Var{\\delta_{ms}}}{2NT} &  \\frac{2\\Var{\\delta_{ms}}}{(NT)^2}\\\\\n",
    "  \\end{array}\\right].\n",
    "$$\n",
    "\n",
    "We will assume the most generic scenario where:\n",
    "\n",
    "- The minimum delay is asymmetric between m-to-s and s-to-m directions.\n",
    "- The queueing delay is also asymmetric.\n",
    "\n",
    "In other words, we will assume that both the mean and the variance of the m-to-s and s-to-m delays are asymmetric. Nevertheless, from the above formulation, note that only the variance impacts the noise covariance matrix. Thus, the asymmetry in the minimum delay makes no difference."
   ]
  },
  {
   "cell_type": "code",
   "execution_count": 1,
   "metadata": {},
   "outputs": [],
   "source": [
    "import numpy as np\n",
    "import matplotlib\n",
    "import matplotlib.pyplot as plt\n",
    "%matplotlib inline"
   ]
  },
  {
   "cell_type": "markdown",
   "metadata": {},
   "source": [
    "Even though the above formulation is generic for any distribution, we will assume a specific distribution. This will allow us to compute theoretical variances. Also, we will need to choose a distribution when generating delays anyways.\n",
    "\n",
    "We will assume that m-to-s and s-to-m delays are Gamma distributed, with independent shape and scale parameters. Their variance will therefore be equal to `shape * (scale**2)`. Also, they will be generated with `np.random.gamma`. "
   ]
  },
  {
   "cell_type": "code",
   "execution_count": 2,
   "metadata": {},
   "outputs": [],
   "source": [
    "shape_m2s = 9\n",
    "scale_m2s = 2000\n",
    "shape_s2m = 8\n",
    "scale_s2m = 1000\n",
    "min_d_m2s = 10e3  \n",
    "min_d_s2m = 15e3\n",
    "\n",
    "# Theoretical variances:\n",
    "var_d_ms  = shape_m2s*(scale_m2s**2)\n",
    "var_d_sm  = shape_s2m*(scale_s2m**2)"
   ]
  },
  {
   "cell_type": "markdown",
   "metadata": {},
   "source": [
    "Define the number of samples. This will control how close our empirical covariance approaches the theoretical one:"
   ]
  },
  {
   "cell_type": "code",
   "execution_count": 3,
   "metadata": {},
   "outputs": [],
   "source": [
    "n_samples = int(1e6)"
   ]
  },
  {
   "cell_type": "markdown",
   "metadata": {},
   "source": [
    "Generate independent m-to-s and s-to-m delays."
   ]
  },
  {
   "cell_type": "code",
   "execution_count": 4,
   "metadata": {},
   "outputs": [
    {
     "data": {
      "image/png": "[encoded data removed]",
      "text/plain": [
       "<Figure size 432x288 with 1 Axes>"
      ]
     },
     "metadata": {
      "needs_background": "light"
     },
     "output_type": "display_data"
    }
   ],
   "source": [
    "d_m2s = min_d_m2s + np.random.gamma(shape=shape_m2s, scale=scale_m2s, size=(n_samples, 1))\n",
    "d_s2m = min_d_s2m + np.random.gamma(shape=shape_s2m, scale=scale_s2m, size=(n_samples, 1))\n",
    "\n",
    "plt.figure()\n",
    "plt.hist(d_m2s*1e-3, bins=50, density=True, label=\"m2s\")\n",
    "plt.hist(d_s2m*1e-3, bins=50, density=True, label=\"s2m\")\n",
    "plt.legend()\n",
    "plt.xlabel(\"Delay (microsecs)\")\n",
    "plt.ylabel(\"pmf\")\n",
    "plt.title(\"Delay distribution\")\n",
    "plt.show()"
   ]
  },
  {
   "cell_type": "markdown",
   "metadata": {},
   "source": [
    "Compute the noise that affects time and frequency offset measurements:"
   ]
  },
  {
   "cell_type": "code",
   "execution_count": 5,
   "metadata": {},
   "outputs": [],
   "source": [
    "# Time offset measurement noise:\n",
    "z_x = (d_m2s + d_s2m)/2"
   ]
  },
  {
   "cell_type": "markdown",
   "metadata": {},
   "source": [
    "For the frequency offset measurement, we will need to generate a vector of Sync departure timestamps ($t_1$). For the purposes of this notebook, this will be an ideal vector, with evenly spaced departures (every $T$ seconds):"
   ]
  },
  {
   "cell_type": "code",
   "execution_count": 6,
   "metadata": {},
   "outputs": [],
   "source": [
    "T  = 1.0/4\n",
    "t1 = np.arange(0, n_samples).reshape(n_samples,1) * T"
   ]
  },
  {
   "cell_type": "markdown",
   "metadata": {},
   "source": [
    "Using them, we can compute the frequency offset measurement noise due to PDV on m-to-s Sync messages:\n",
    "\n",
    "$$ z_y[n] = \\frac{\\delta_{ms}[n] - \\delta_{ms}[n-N]}{NT} $$"
   ]
  },
  {
   "cell_type": "code",
   "execution_count": 7,
   "metadata": {},
   "outputs": [],
   "source": [
    "# Frequency offset measurement noise:\n",
    "N   = 64 # observation window\n",
    "dx  = d_m2s[N:] - d_m2s[:-N]\n",
    "dt1 = t1[N:] - t1[:-N]\n",
    "z_y = dx / dt1"
   ]
  },
  {
   "cell_type": "markdown",
   "metadata": {},
   "source": [
    "Note that frequency offset measurements are window-based, hence they only exist after the first $N$ samples. To ensure that $z_x$ and $z_y$ vectors have the same length, we will throw away the initial $N$ samples from $z_x$:"
   ]
  },
  {
   "cell_type": "code",
   "execution_count": 8,
   "metadata": {},
   "outputs": [],
   "source": [
    "z_x = z_x[N:]"
   ]
  },
  {
   "cell_type": "markdown",
   "metadata": {},
   "source": [
    "Now, evaluate the covariance matrix $Cov(z_x, z_y)$:"
   ]
  },
  {
   "cell_type": "code",
   "execution_count": 9,
   "metadata": {},
   "outputs": [],
   "source": [
    "X = np.stack((z_x, z_y), axis=0)\n",
    "R = np.cov(np.squeeze(X))"
   ]
  },
  {
   "cell_type": "markdown",
   "metadata": {},
   "source": [
    "And compute the theoretical measurement covariance matrix:"
   ]
  },
  {
   "cell_type": "code",
   "execution_count": 10,
   "metadata": {},
   "outputs": [],
   "source": [
    "var_zx   = (var_d_ms + var_d_sm) / 4\n",
    "cov_zxzy = var_d_ms / (2 * N * T)\n",
    "var_zy   = (2 * var_d_ms) / (N*T)**2\n",
    "R_theo   = np.array([[var_zx, cov_zxzy], [cov_zxzy, var_zy]])"
   ]
  },
  {
   "cell_type": "markdown",
   "metadata": {},
   "source": [
    "Compare with the empirical covariance matrix with the theoretical one:"
   ]
  },
  {
   "cell_type": "code",
   "execution_count": 11,
   "metadata": {},
   "outputs": [
    {
     "name": "stdout",
     "output_type": "stream",
     "text": [
      "Empirical:\n",
      "[[10979763.2150759   1124672.35470519]\n",
      " [ 1124672.35470519   281286.19572057]]\n",
      "\n",
      "Theoretical:\n",
      "[[11000000.  1125000.]\n",
      " [ 1125000.   281250.]]\n",
      "\n",
      "Error:\n",
      "[[-20236.7849241    -327.64529481]\n",
      " [  -327.64529481     36.19572057]]\n",
      "\n",
      "Normalized 2-norm of the error: 0.0018206589629168395\n"
     ]
    }
   ],
   "source": [
    "print(\"Empirical:\")\n",
    "print(R)\n",
    "print(\"\\nTheoretical:\")\n",
    "print(R_theo)\n",
    "print(\"\\nError:\")\n",
    "print((R - R_theo))\n",
    "print(\"\\nNormalized 2-norm of the error:\", np.linalg.norm(R - R_theo)/np.linalg.norm(R_theo))"
   ]
  },
  {
   "cell_type": "markdown",
   "metadata": {},
   "source": [
    "So the theoretical formulation seems reasonable. In a more practical scenario, however, we can expect some disturbances. The two main ones are:\n",
    "\n",
    "1. Sync departures are not evenly spaced. This means that the frequency offset measurement noise formulated as $ z_y[n] = \\frac{\\delta_{ms}[n] - \\delta_{ms}[n-N]}{NT}$ won't perfectly match in reality. Nevertheless, as the observation interval $N$ grows, the approximation improves, since the individual fluctuations in inter-departure interval exert less influence.\n",
    "\n",
    "2. The noise affecting time and frequency offset measurements isn't only due to delay as considered. There is also the noise that affects the timestamps themselves, namely due to timestamp granularity and phase noise. However, these are expected to be much lower in magnitude and therefore are ignored in the above formulation. This is especially neglectable for frequency offset measurement due to its computation that divides timestamps by a large interval $NT$, which attenuates the timestamp noise."
   ]
  }
 ],
 "metadata": {
  "kernelspec": {
   "display_name": "Python 3",
   "language": "python",
   "name": "python3"
  },
  "language_info": {
   "codemirror_mode": {
    "name": "ipython",
    "version": 3
   },
   "file_extension": ".py",
   "mimetype": "text/x-python",
   "name": "python",
   "nbconvert_exporter": "python",
   "pygments_lexer": "ipython3",
   "version": "3.7.1"
  }
 },
 "nbformat": 4,
 "nbformat_minor": 2
}
