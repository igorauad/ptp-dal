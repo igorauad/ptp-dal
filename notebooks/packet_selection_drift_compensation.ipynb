{
 "cells": [
  {
   "cell_type": "markdown",
   "metadata": {},
   "source": [
    "# The importance of drift compensation on packet selection\n",
    "\n",
    "Run a simulation where the frequency offset is reasonably stable, but sufficiently high. That is, RTC with good stability, but relatively poor tolerance. Also, define a relatively low PDV variance, so that the delay PDF is well \"concentrated\"."
   ]
  },
  {
   "cell_type": "code",
   "execution_count": null,
   "metadata": {},
   "outputs": [
    {
     "name": "stdout",
     "output_type": "stream",
     "text": [
      "Runner progress:  10.01 %\n",
      "Runner progress:  20.02 %\n",
      "Runner progress:  30.03 %\n",
      "Runner progress:  40.04 %\n",
      "Runner progress:  50.05 %\n"
     ]
    }
   ],
   "source": [
    "import sys, os\n",
    "sys.path.append(os.path.abspath('../'))\n",
    "import ptp.runner\n",
    "import ptp.ls\n",
    "import ptp.metrics\n",
    "import ptp.pktselection\n",
    "import ptp.kalman\n",
    "import ptp.frequency\n",
    "import numpy as np\n",
    "import matplotlib\n",
    "import matplotlib.pyplot as plt\n",
    "%matplotlib inline  \n",
    "\n",
    "# Parameters\n",
    "n_iter     = 4096               # Number of runner iterations\n",
    "N_ls       = 2048               # LS window\n",
    "N_movavg   = 128                # Moving average window\n",
    "N_median   = 128                # Sample-median window\n",
    "N_min      = 128                # Sample-minimum window\n",
    "N_ewma     = 64                 # EWMA window\n",
    "freq_delta = 16                 # Freq. offset estimation delta\n",
    "show_pkts  = True\n",
    "show_ls    = True\n",
    "show_kf    = True\n",
    "show_raw   = False\n",
    "show_best  = True\n",
    "\n",
    "# Run PTP simulation\n",
    "runner = ptp.runner.Runner(n_iter = n_iter, rtc_tolerance=300, rtc_stability=0.01, gamma_scale=100)\n",
    "runner.run()\n",
    "\n",
    "# Least-squares estimator\n",
    "ls = ptp.ls.Ls(N_ls, runner.data, runner.sync_period*1e9)\n",
    "ls.process(impl=\"eff\")"
   ]
  },
  {
   "cell_type": "markdown",
   "metadata": {},
   "source": [
    "Collect raw time offset and delay measurements:"
   ]
  },
  {
   "cell_type": "code",
   "execution_count": null,
   "metadata": {},
   "outputs": [],
   "source": [
    "x_obs = [res[\"x_est\"] for res in runner.data]\n",
    "d_obs = [res[\"d_est\"] for res in runner.data]"
   ]
  },
  {
   "cell_type": "markdown",
   "metadata": {},
   "source": [
    "Define an arbitrary observation window and take the $t_2 - t_1$ and $t_4 - t_3$ differences:"
   ]
  },
  {
   "cell_type": "code",
   "execution_count": null,
   "metadata": {},
   "outputs": [],
   "source": [
    "# Window start and end indexes\n",
    "i_s = 2300\n",
    "i_e = i_s + N_min\n",
    "\n",
    "t2_minus_t1_w = np.array([float(r[\"t2\"] - r[\"t1\"]) for r in runner.data[i_s:i_e]])\n",
    "t4_minus_t3_w = np.array([float(r[\"t4\"] - r[\"t3\"]) for r in runner.data[i_s:i_e]])"
   ]
  },
  {
   "cell_type": "markdown",
   "metadata": {},
   "source": [
    "Get the frequency offset estimate from LS and predict the drift within the observation window:"
   ]
  },
  {
   "cell_type": "code",
   "execution_count": null,
   "metadata": {},
   "outputs": [],
   "source": [
    "# Compute the drift within the observation window\n",
    "ls_impl = \"eff\"\n",
    "t_w     = np.array([float(r[\"t1\"] - runner.data[i_s][\"t1\"]) for r in runner.data[i_s:i_e]])\n",
    "y       = runner.data[i_e - 1][\"y_ls_{}\".format(ls_impl)]\n",
    "drift   = y * t_w\n",
    "print(\"y estimated: %f ppb\\ttrue: %f ppb\" %(y*1e9, runner.data[i_e - 1][\"rtc_y\"]))"
   ]
  },
  {
   "cell_type": "code",
   "execution_count": null,
   "metadata": {},
   "outputs": [],
   "source": [
    "plt.figure()\n",
    "plt.plot(drift)\n",
    "plt.xlabel(\"Index\")\n",
    "plt.ylabel(\"Drift (ns)\")\n",
    "plt.title(\"Drift within observation window\")\n",
    "plt.show()"
   ]
  },
  {
   "cell_type": "markdown",
   "metadata": {},
   "source": [
    "## Sample-minimum packet selection\n",
    "\n",
    "### Without frequency compensation\n",
    "\n",
    "Compute: \n",
    "\n",
    "$$  \\hat{x}[k] \\doteq \\frac{1}{2} \\left(\n",
    "  \\min_{kN \\leq n < (k+1)N}\\left\\{t_2[n] - t_1[n]\\right\\}\n",
    "  - \\min_{kN \\leq n < (k+1)N}\\left\\{t_4[n] - t_3[n]\\right\\}\n",
    "  \\right)$$"
   ]
  },
  {
   "cell_type": "code",
   "execution_count": null,
   "metadata": {},
   "outputs": [],
   "source": [
    "t2_minus_t1 = np.amin(t2_minus_t1_w)\n",
    "t4_minus_t3 = np.amin(t4_minus_t3_w)\n",
    "\n",
    "print(\"argmin(t2-t1): %d\\targmin(t4-t3): %d\" %(\n",
    "np.argmin(t2_minus_t1_w), np.argmin(t4_minus_t3_w)))\n",
    "\n",
    "x     = runner.data[i_e - 1][\"x\"]\n",
    "x_est = (t2_minus_t1 - t4_minus_t3)/2\n",
    "print(\"x estimated: %f ns\\ttrue: %f ns\" %(x_est, x))\n",
    "print(\"Error: %f\" %(x_est - x))"
   ]
  },
  {
   "cell_type": "markdown",
   "metadata": {},
   "source": [
    "Note that due to frequency offset, the minimum of one will be in the beginning of the observation window and the minimum of the other will be in the end, depending on the sign of the frequency offset.\n",
    "\n",
    "This can be better understood by observing the $t_2 - t_1$ and $t_4 - t_3$ differences:"
   ]
  },
  {
   "cell_type": "code",
   "execution_count": null,
   "metadata": {},
   "outputs": [],
   "source": [
    "plt.figure()\n",
    "plt.plot(t2_minus_t1_w)\n",
    "plt.xlabel(\"Index\")\n",
    "plt.ylabel(\"(ns)\")\n",
    "plt.title(\"t2 - t1\")\n",
    "plt.show()\n",
    "\n",
    "plt.figure()\n",
    "plt.plot(t4_minus_t3_w)\n",
    "plt.xlabel(\"Index\")\n",
    "plt.ylabel(\"(ns)\")\n",
    "plt.title(\"t4 - t3 \")\n",
    "plt.show()\n",
    "\n",
    "plt.figure()\n",
    "plt.hist(t2_minus_t1_w, bins=50)\n",
    "plt.ylabel(\"Probability\")\n",
    "plt.xlabel(\"(ns)\")\n",
    "plt.title(\"t2 - t1 histogram\")\n",
    "plt.show()\n",
    "\n",
    "plt.figure()\n",
    "plt.hist(t4_minus_t3_w, bins=50)\n",
    "plt.ylabel(\"Probability\")\n",
    "plt.xlabel(\"(ns)\")\n",
    "plt.title(\"t4 - t3 histogram\")\n",
    "plt.show()"
   ]
  },
  {
   "cell_type": "markdown",
   "metadata": {},
   "source": [
    "### With frequency compensation\n",
    "\n",
    "First observe the compensated differences:"
   ]
  },
  {
   "cell_type": "code",
   "execution_count": null,
   "metadata": {},
   "outputs": [],
   "source": [
    "t2_minus_t1_w_freq_corr = t2_minus_t1_w - drift\n",
    "t4_minus_t3_w_freq_corr = t4_minus_t3_w + drift\n",
    "\n",
    "plt.figure()\n",
    "plt.plot(t2_minus_t1_w_freq_corr)\n",
    "plt.xlabel(\"Index\")\n",
    "plt.ylabel(\"(ns)\")\n",
    "plt.title(\"t2 - t1\")\n",
    "plt.show()\n",
    "\n",
    "plt.figure()\n",
    "plt.xlabel(\"Index\")\n",
    "plt.ylabel(\"(ns)\")\n",
    "plt.title(\"t4 - t3 \")\n",
    "plt.plot(t4_minus_t3_w_freq_corr)\n",
    "plt.show()\n",
    "\n",
    "plt.figure()\n",
    "plt.hist(t2_minus_t1_w_freq_corr, bins=50)\n",
    "plt.ylabel(\"Probability\")\n",
    "plt.xlabel(\"(ns)\")\n",
    "plt.title(\"t2 - t1 histogram\")\n",
    "plt.show()\n",
    "\n",
    "plt.figure()\n",
    "plt.hist(t4_minus_t3_w_freq_corr, bins=50)\n",
    "plt.ylabel(\"Probability\")\n",
    "plt.xlabel(\"(ns)\")\n",
    "plt.title(\"t4 - t3 histogram\")\n",
    "plt.show()"
   ]
  },
  {
   "cell_type": "code",
   "execution_count": null,
   "metadata": {},
   "outputs": [],
   "source": [
    "t2_minus_t1 = np.amin(t2_minus_t1_w_freq_corr)\n",
    "t4_minus_t3 = np.amin(t4_minus_t3_w_freq_corr)\n",
    "\n",
    "print(\"min(t2-t1): %d\\tmin(t4-t3): %d\" %(\n",
    "np.amin(t2_minus_t1_w_freq_corr), np.amin(t4_minus_t3_w_freq_corr)))\n",
    "print(\"argmin(t2-t1): %d\\targmin(t4-t3): %d\" %(\n",
    "np.argmin(t2_minus_t1_w_freq_corr), np.argmin(t4_minus_t3_w_freq_corr)))\n",
    "\n",
    "x     = runner.data[i_e - 1][\"x\"]\n",
    "x_est = (t2_minus_t1 - t4_minus_t3)/2 + drift[-1]\n",
    "print(\"x estimated: %f ns\\ttrue: %f ns\" %(x_est, x))\n",
    "print(\"Error: %f\" %(x_est - x))"
   ]
  },
  {
   "cell_type": "markdown",
   "metadata": {},
   "source": [
    "## Sample-mode packet selection\n",
    "\n",
    "### Without frequency compensation"
   ]
  },
  {
   "cell_type": "code",
   "execution_count": null,
   "metadata": {},
   "outputs": [],
   "source": [
    "bin_width = 10\n",
    "\n",
    "# Quantize timestamp difference vectors\n",
    "t2_minus_t1_q = np.round(t2_minus_t1_w / bin_width)\n",
    "t4_minus_t3_q = np.round(t4_minus_t3_w / bin_width)\n",
    "\n",
    "# Find the mode for (t2 - t1)\n",
    "(_, idx, counts) = np.unique(t2_minus_t1_q, return_index=True, return_counts=True)\n",
    "mode_idx_fw      = idx[np.argmax(counts)]\n",
    "t2_minus_t1      = t2_minus_t1_q[mode_idx_fw] * bin_width\n",
    "\n",
    "# Find the mode for (t4 - t3)\n",
    "(_, idx, counts) = np.unique(t4_minus_t3_q, return_index=True, return_counts=True)\n",
    "mode_idx_bw      = idx[np.argmax(counts)]\n",
    "t4_minus_t3      = t4_minus_t3_q[mode_idx_bw] * bin_width\n",
    "\n",
    "print(\"argmode(t2-t1): %d\\targmode(t4-t3): %d\" %(mode_idx_fw, mode_idx_bw))\n",
    "\n",
    "plt.figure()\n",
    "plt.hist(t2_minus_t1_q, bins=50)\n",
    "plt.ylabel(\"Probability\")\n",
    "plt.xlabel(\"(ns)\")\n",
    "plt.title(\"Quantized t2 - t1 histogram\")\n",
    "plt.show()\n",
    "\n",
    "plt.figure()\n",
    "plt.hist(t4_minus_t3_q, bins=50)\n",
    "plt.ylabel(\"Probability\")\n",
    "plt.xlabel(\"(ns)\")\n",
    "plt.title(\"Quantized t4 - t3 histogram\")\n",
    "plt.show()\n",
    "\n",
    "x     = runner.data[i_e - 1][\"x\"]\n",
    "x_est = (t2_minus_t1 - t4_minus_t3)/2\n",
    "print(\"x estimated: %f ns\\ttrue: %f ns\" %(x_est, x))\n",
    "print(\"Error: %f\" %(x_est - x))"
   ]
  },
  {
   "cell_type": "markdown",
   "metadata": {},
   "source": [
    "### After drift compensation"
   ]
  },
  {
   "cell_type": "code",
   "execution_count": null,
   "metadata": {},
   "outputs": [],
   "source": [
    "bin_width = 10\n",
    "\n",
    "# Quantize timestamp difference vectors\n",
    "t2_minus_t1_q = np.round(t2_minus_t1_w_freq_corr / bin_width)\n",
    "t4_minus_t3_q = np.round(t4_minus_t3_w_freq_corr / bin_width)\n",
    "\n",
    "# Find the mode for (t2 - t1)\n",
    "(_, idx, counts_fw) = np.unique(t2_minus_t1_q, return_index=True, return_counts=True)\n",
    "mode_idx_fw         = idx[np.argmax(counts_fw)]\n",
    "t2_minus_t1         = t2_minus_t1_q[mode_idx_fw] * bin_width\n",
    "\n",
    "# Find the mode for (t4 - t3)\n",
    "(_, idx, counts_bw) = np.unique(t4_minus_t3_q, return_index=True, return_counts=True)\n",
    "mode_idx_bw         = idx[np.argmax(counts_bw)]\n",
    "t4_minus_t3         = t4_minus_t3_q[mode_idx_bw] * bin_width\n",
    "\n",
    "print(\"mode(t2-t1): %d\\tmode(t4-t3): %d\" %(t2_minus_t1_q[mode_idx_fw], t4_minus_t3_q[mode_idx_bw]))\n",
    "print(\"argmode(t2-t1): %d\\targmode(t4-t3): %d\" %(mode_idx_fw, mode_idx_bw))\n",
    "print(\"count mode(t2-t1): %d\\tcount mode(t4-t3): %d\" %(np.amax(counts_fw), np.amax(counts_bw)))\n",
    "\n",
    "plt.figure()\n",
    "plt.hist(t2_minus_t1_q, bins=50)\n",
    "plt.ylabel(\"Probability\")\n",
    "plt.xlabel(\"(ns)\")\n",
    "plt.title(\"Compressed t2 - t1 histogram\")\n",
    "plt.show()\n",
    "\n",
    "plt.figure()\n",
    "plt.hist(t4_minus_t3_q, bins=50)\n",
    "plt.ylabel(\"Probability\")\n",
    "plt.xlabel(\"(ns)\")\n",
    "plt.title(\"Compressed t4 - t3 histogram\")\n",
    "plt.show()\n",
    "\n",
    "x     = runner.data[i_e - 1][\"x\"]\n",
    "x_est = (t2_minus_t1 - t4_minus_t3)/2 + drift[-1]\n",
    "print(\"x estimated: %f ns\\ttrue: %f ns\" %(x_est, x))\n",
    "print(\"Error: %f\" %(x_est - x))"
   ]
  }
 ],
 "metadata": {
  "kernelspec": {
   "display_name": "Python 3",
   "language": "python",
   "name": "python3"
  },
  "language_info": {
   "codemirror_mode": {
    "name": "ipython",
    "version": 3
   },
   "file_extension": ".py",
   "mimetype": "text/x-python",
   "name": "python",
   "nbconvert_exporter": "python",
   "pygments_lexer": "ipython3",
   "version": "3.7.1"
  }
 },
 "nbformat": 4,
 "nbformat_minor": 2
}
